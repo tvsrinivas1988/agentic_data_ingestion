{
 "cells": [
  {
   "cell_type": "code",
   "execution_count": null,
   "id": "abd7ebb2",
   "metadata": {},
   "outputs": [],
   "source": [
    "import json\n",
    "import openai\n",
    "from dotenv import load_dotenv\n",
    "import os\n",
    "load_dotenv()\n",
    "\n",
    "\n",
    "\n",
    "from langchain_openai import ChatOpenAI\n",
    "from langchain.schema import SystemMessage, HumanMessage\n",
    "import json\n",
    "\n",
    "from langchain_openai import ChatOpenAI\n",
    "from langchain.schema import SystemMessage, HumanMessage\n",
    "import json\n",
    "from utils.db import get_table_columns, get_connection,list_schemas,list_tables # <-- make sure this exists in your utils.db\n",
    "\n"
   ]
  },
  {
   "cell_type": "code",
   "execution_count": 22,
   "id": "4178e40f",
   "metadata": {},
   "outputs": [
    {
     "name": "stderr",
     "output_type": "stream",
     "text": [
      "c:\\Users\\A4627\\OneDrive - Axtria\\DSA_Python\\Agentic_DataIngestion\\utils\\db.py:97: UserWarning: pandas only supports SQLAlchemy connectable (engine/connection) or database string URI or sqlite3 DBAPI2 connection. Other DBAPI2 objects are not tested. Please consider using SQLAlchemy.\n",
      "  df = pd.read_sql(query, conn)\n",
      "c:\\Users\\A4627\\OneDrive - Axtria\\DSA_Python\\Agentic_DataIngestion\\utils\\db.py:97: UserWarning: pandas only supports SQLAlchemy connectable (engine/connection) or database string URI or sqlite3 DBAPI2 connection. Other DBAPI2 objects are not tested. Please consider using SQLAlchemy.\n",
      "  df = pd.read_sql(query, conn)\n",
      "c:\\Users\\A4627\\OneDrive - Axtria\\DSA_Python\\Agentic_DataIngestion\\utils\\db.py:45: UserWarning: pandas only supports SQLAlchemy connectable (engine/connection) or database string URI or sqlite3 DBAPI2 connection. Other DBAPI2 objects are not tested. Please consider using SQLAlchemy.\n",
      "  df = pd.read_sql(query, conn)\n",
      "c:\\Users\\A4627\\OneDrive - Axtria\\DSA_Python\\Agentic_DataIngestion\\utils\\db.py:57: UserWarning: pandas only supports SQLAlchemy connectable (engine/connection) or database string URI or sqlite3 DBAPI2 connection. Other DBAPI2 objects are not tested. Please consider using SQLAlchemy.\n",
      "  df = pd.read_sql(query, conn)\n",
      "c:\\Users\\A4627\\OneDrive - Axtria\\DSA_Python\\Agentic_DataIngestion\\utils\\db.py:57: UserWarning: pandas only supports SQLAlchemy connectable (engine/connection) or database string URI or sqlite3 DBAPI2 connection. Other DBAPI2 objects are not tested. Please consider using SQLAlchemy.\n",
      "  df = pd.read_sql(query, conn)\n"
     ]
    },
    {
     "name": "stdout",
     "output_type": "stream",
     "text": [
      "[{'target_column': 'brand_id', 'source_columns': ['brand_id'], 'transformation': None, 'pkey': 'brand_id'}, {'target_column': 'brand_name', 'source_columns': ['brand_name'], 'transformation': None, 'pkey': 'brand_id'}, {'target_column': 'process_ind', 'source_columns': [], 'transformation': \"CASE WHEN EXISTS (SELECT 1 FROM int.brand_master WHERE brand_id = stg.brand_master.brand_id) THEN 'U' ELSE 'I' END\", 'pkey': 'brand_id'}, {'target_column': 'audit_insrt_dt', 'source_columns': [], 'transformation': 'CURRENT_TIMESTAMP', 'pkey': 'brand_id'}, {'target_column': 'audit_insrt_nm', 'source_columns': [], 'transformation': 'CURRENT_USER', 'pkey': 'brand_id'}, {'target_column': 'audit_updt_dt', 'source_columns': [], 'transformation': 'CURRENT_TIMESTAMP', 'pkey': 'brand_id'}, {'target_column': 'audit_updt_nm', 'source_columns': [], 'transformation': 'CURRENT_USER', 'pkey': 'brand_id'}, {'target_column': 'audit_batch_id', 'source_columns': [], 'transformation': 'NULL', 'pkey': 'brand_id'}]\n"
     ]
    }
   ],
   "source": [
    "src_schema = 'stg'\n",
    "src_table = 'brand_master'\n",
    "tgt_schema = 'int'\n",
    "tgt_table = 'brand_master'\n",
    "\n",
    "\n",
    "\n",
    "# Fetch schema metadata from DB\n",
    "source_columns = get_table_columns(src_schema, src_table)\n",
    "target_columns = get_table_columns(tgt_schema, tgt_table)\n",
    "\n",
    "# Extract just the column names for prompt clarity\n",
    "src_cols = [c[\"column_name\"] for c in source_columns]\n",
    "tgt_cols = [c[\"column_name\"] for c in target_columns]\n",
    "\n",
    "# Include schema overview for context\n",
    "all_schemas = {s: list_tables(s) for s in list_schemas()}\n",
    "\n",
    "# Build LLM model\n",
    "model = ChatOpenAI(model=\"gpt-4o-mini\", temperature=0.2,api_key=os.getenv('OPENAI_API_KEY'))\n",
    "\n",
    "# Strict instruction to use only target columns\n",
    "messages = [\n",
    "    SystemMessage(content=(\n",
    "        \"You are an expert ETL engineer. \"\n",
    "        \"Your task is to build a JSON Source-To-Target Mapping (STTM). \"\n",
    "        \"You must only use the target columns that exist in the provided schema metadata. \"\n",
    "        \"Do not invent or hallucinate new target columns. \"\n",
    "        \"You may, however, infer transformations or use constants for audit fields like timestamps.\"\n",
    "        \"Include join details if the column comes from another schema/table.\"\n",
    "        \"Use the key 'join_logic' and 'lookup_table' for such cases.\"\n",
    "\n",
    "    )),\n",
    "    HumanMessage(content=f\"\"\"\n",
    "    Given:\n",
    "    - Primary source table: `{src_schema}.{src_table}`\n",
    "    - Target table: `{tgt_schema}.{tgt_table}`\n",
    "\n",
    "    Available schemas and tables:\n",
    "    {json.dumps(all_schemas, indent=2)}\n",
    "\n",
    "    Source columns:\n",
    "    {json.dumps(src_cols, indent=2)}\n",
    "\n",
    "    Target columns:\n",
    "    {json.dumps(tgt_cols, indent=2)}\n",
    "\n",
    "    Generate an STTM JSON with entries like this for simple table:\n",
    "    {{\n",
    "        \"target_column\": \"<column_name_in_target>\",\n",
    "        \"source_columns\": [\"col1\", \"col2\", ...],\n",
    "        \"transformation\": \"<expression or null>\",\n",
    "        \"pkey\" : \"<Primary Keys for the target table>\"\n",
    "    }}\n",
    "\n",
    "    Generate an STTM JSON with entries like this for complex table that need joins:\n",
    "    \n",
    "    {{\n",
    "        \"target_column\": \"product_name\",\n",
    "        \"pkey\" : \"<Primary Keys for the target table>\"\n",
    "        \"source_tables\": [\n",
    "      {{\n",
    "        \"schema\": \"ref\",\n",
    "        \"table\": \"product_master\",\n",
    "        \"join_type\": \"inner\",\n",
    "        \"join_logic\": \"stg.sales_txn.product_id = ref.product_master.product_id\"\n",
    "      }}\n",
    "      ],\n",
    "        \"source_columns\": [\"product_id\"],\n",
    "        \"transformation\": \"<expression or null>\"\n",
    "        \n",
    "        \n",
    "    }}\n",
    "    \n",
    "\n",
    "    Rules:\n",
    "    - Map only columns present in the target list.\n",
    "    - Use similar names for direct mappings (case-insensitive) except for audit columns.\n",
    "    - For audit fields like 'audit_insrt_dt', 'audit_updt_dt', 'load_ts', use CURRENT_TIMESTAMP.\n",
    "    - If you use more than one table, include the \"source_tables\" field in the mapping like this:\n",
    "    - If join is needed, specify both lookup_table and join_logic\n",
    "    - Output must be valid JSON (list of mappings).\n",
    "    -INT schema tables are always SCD1 for dimensions\n",
    "    -DWH Schema tables are always SCD2 for dimensions.\n",
    "    -Process_ind in the INT Schema will be I for new records & U for updated records & D for deleted records.\n",
    "    -When the source schema is INT and target schema is DWH pick up records which have processind in I and U.\n",
    "    -When looking up records from DWH always use the filter IS_ACTIVE='Y'\n",
    "    -When looking up records from INT always use the filter PROCESS_IND in ('I','U')\n",
    "    -DWH tables will have is_active column which is a flag .Its set to Y for currently active records and N for inactive records.\n",
    "    -EFF_START_DT & EFF_END_DT are the dates in between which the records were active/currently active.\n",
    "    -Provide the Primary_key details as well by profiling if needed.\n",
    "\n",
    "    \"\"\")\n",
    "]\n",
    "\n",
    "response = model.invoke(messages)\n",
    "reply = response.content.strip()\n",
    "\n",
    "# Safe JSON extraction\n",
    "try:\n",
    "    sttm = json.loads(reply)\n",
    "except Exception:\n",
    "    import re\n",
    "    match = re.search(r\"\\[[\\s\\S]*\\]\", reply)\n",
    "    sttm = json.loads(match.group(0)) if match else []\n",
    "\n",
    "# Double-check target column validity (safety filter)\n",
    "valid_tgt_cols = set(tgt_cols)\n",
    "filtered_sttm = [m for m in sttm if m.get(\"target_column\") in valid_tgt_cols]\n",
    "\n",
    "print(filtered_sttm)"
   ]
  },
  {
   "cell_type": "code",
   "execution_count": 19,
   "id": "e08c17cd",
   "metadata": {},
   "outputs": [
    {
     "data": {
      "text/plain": [
       "'```json\\n[\\n    {\\n        \"target_column\": \"profit_center_id\",\\n        \"source_columns\": [\"profit_center_id\"],\\n        \"transformation\": null\\n    },\\n    {\\n        \"target_column\": \"profit_center_code\",\\n        \"source_columns\": [\"profit_center_code\"],\\n        \"transformation\": null\\n    },\\n    {\\n        \"target_column\": \"profit_center_name\",\\n        \"source_columns\": [\"profit_center_name\"],\\n        \"transformation\": null\\n    },\\n    {\\n        \"target_column\": \"parent_profit_center_id\",\\n        \"source_columns\": [\"parent_profit_center_id\"],\\n        \"transformation\": null\\n    },\\n    {\\n        \"target_column\": \"brand_id\",\\n        \"source_columns\": [\"brand_id\"],\\n        \"transformation\": null\\n    },\\n    {\\n        \"target_column\": \"level\",\\n        \"source_columns\": [\"level\"],\\n        \"transformation\": null\\n    },\\n    {\\n        \"target_column\": \"brand_name\",\\n        \"source_tables\": [\\n            {\\n                \"schema\": \"dwh\",\\n                \"table\": \"brand_master\",\\n                \"join_type\": \"inner\",\\n                \"join_logic\": \"stg.profit_center_hierarchy.brand_id = dwh.brand_master.brand_id\"\\n            }\\n        ],\\n        \"source_columns\": [\"brand_id\"],\\n        \"transformation\": null\\n    },\\n    {\\n        \"target_column\": \"audit_insrt_dt\",\\n        \"source_columns\": [],\\n        \"transformation\": \"CURRENT_TIMESTAMP\"\\n    },\\n    {\\n        \"target_column\": \"audit_insrt_nm\",\\n        \"source_columns\": [],\\n        \"transformation\": \"null\"  // Assuming the insert name is not provided in the source\\n    },\\n    {\\n        \"target_column\": \"audit_updt_dt\",\\n        \"source_columns\": [],\\n        \"transformation\": \"CURRENT_TIMESTAMP\"\\n    },\\n    {\\n        \"target_column\": \"audit_updt_nm\",\\n        \"source_columns\": [],\\n        \"transformation\": \"null\"  // Assuming the update name is not provided in the source\\n    },\\n    {\\n        \"target_column\": \"audit_batch_id\",\\n        \"source_columns\": [],\\n        \"transformation\": \"null\"  // Assuming the batch ID is not provided in the source\\n    }\\n]\\n```'"
      ]
     },
     "execution_count": 19,
     "metadata": {},
     "output_type": "execute_result"
    }
   ],
   "source": [
    "reply \n"
   ]
  },
  {
   "cell_type": "code",
   "execution_count": null,
   "id": "95f81cc8",
   "metadata": {},
   "outputs": [],
   "source": [
    "source_columns"
   ]
  },
  {
   "cell_type": "code",
   "execution_count": null,
   "id": "03261b2a",
   "metadata": {},
   "outputs": [],
   "source": [
    "df=get_table_columns('int', '')\n",
    "df"
   ]
  },
  {
   "cell_type": "code",
   "execution_count": null,
   "id": "7abb9ac7",
   "metadata": {},
   "outputs": [],
   "source": []
  },
  {
   "cell_type": "code",
   "execution_count": null,
   "id": "6ee5b154",
   "metadata": {},
   "outputs": [],
   "source": []
  },
  {
   "cell_type": "code",
   "execution_count": null,
   "id": "d0cb350b",
   "metadata": {},
   "outputs": [],
   "source": []
  },
  {
   "cell_type": "code",
   "execution_count": null,
   "id": "a15bb166",
   "metadata": {},
   "outputs": [],
   "source": []
  },
  {
   "cell_type": "code",
   "execution_count": null,
   "id": "8da1b81a",
   "metadata": {},
   "outputs": [],
   "source": []
  }
 ],
 "metadata": {
  "kernelspec": {
   "display_name": "venv",
   "language": "python",
   "name": "python3"
  },
  "language_info": {
   "codemirror_mode": {
    "name": "ipython",
    "version": 3
   },
   "file_extension": ".py",
   "mimetype": "text/x-python",
   "name": "python",
   "nbconvert_exporter": "python",
   "pygments_lexer": "ipython3",
   "version": "3.13.3"
  }
 },
 "nbformat": 4,
 "nbformat_minor": 5
}
